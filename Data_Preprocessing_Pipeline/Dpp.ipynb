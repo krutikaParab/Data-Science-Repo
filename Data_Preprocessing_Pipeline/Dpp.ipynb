{
  "nbformat": 4,
  "nbformat_minor": 0,
  "metadata": {
    "colab": {
      "provenance": [],
      "authorship_tag": "ABX9TyN7hMNYYjOphnejI1iHJM5+",
      "include_colab_link": true
    },
    "kernelspec": {
      "name": "python3",
      "display_name": "Python 3"
    },
    "language_info": {
      "name": "python"
    }
  },
  "cells": [
    {
      "cell_type": "markdown",
      "metadata": {
        "id": "view-in-github",
        "colab_type": "text"
      },
      "source": [
        "<a href=\"https://colab.research.google.com/github/krutikaParab/Data-Science-Projects/blob/main/Data_Preprocessing_Pipeline/Dpp.ipynb\" target=\"_parent\"><img src=\"https://colab.research.google.com/assets/colab-badge.svg\" alt=\"Open In Colab\"/></a>"
      ]
    },
    {
      "cell_type": "markdown",
      "source": [
        "Data Preprocessing pipeline should be able to handle missing values, standardize numerical features, remove outliers, and ensure easy replication of preprocessing steps on new datasets."
      ],
      "metadata": {
        "id": "6x7xT23aOJFH"
      }
    },
    {
      "cell_type": "code",
      "execution_count": 15,
      "metadata": {
        "id": "z0jn0lV9Jkaz"
      },
      "outputs": [],
      "source": [
        "import pandas as pd\n",
        "import numpy as np\n",
        "from sklearn.preprocessing import StandardScaler\n",
        "\n",
        "def data_preprocessing_pipeline(data):\n",
        "  # Identify numeric and categorical features\n",
        "  numeric_features = data.select_dtypes(include=['float', 'int']).columns\n",
        "  categorical_features = data.select_dtypes(include=['object']).columns\n",
        "\n",
        "  # Handle missing values in numeric features\n",
        "  data[numeric_features] = data[numeric_features].fillna(data[numeric_features].mean())\n",
        "\n",
        "  # Detect and handle outliers in numeric features using IQR\n",
        "  for feature in numeric_features:\n",
        "    Q1 = data[feature].quantile(0.25)\n",
        "    Q3 = data[feature].quantile(0.75)\n",
        "\n",
        "    IQR = Q3 - Q1\n",
        "    lower_bound = Q1 - (1.5 * IQR)\n",
        "    upper_bound = Q3 + (1.5 * IQR)\n",
        "\n",
        "    data[feature] = np.where((data[feature] < lower_bound) | (data[feature] > upper_bound),\n",
        "                             data[feature].mean(), data[feature])\n",
        "\n",
        "    # Normalize numeric features\n",
        "    scaler = StandardScaler()\n",
        "    scaled_data = scaler.fit_transform(data[numeric_features])\n",
        "    data[numeric_features] = scaler.transform(data[numeric_features])\n",
        "\n",
        "    # Handle missing values in categorical features\n",
        "    data[categorical_features] = data[categorical_features].fillna(data[categorical_features].mode().iloc[0])\n",
        "\n",
        "    return data\n",
        ""
      ]
    },
    {
      "cell_type": "code",
      "source": [
        "data = pd.read_csv(\"data.csv\")\n",
        "\n",
        "print(\"Original_data: \")\n",
        "print(data)"
      ],
      "metadata": {
        "colab": {
          "base_uri": "https://localhost:8080/"
        },
        "id": "O0nOVLu_Ov-2",
        "outputId": "676e203e-862d-4e3c-d584-955737203a21"
      },
      "execution_count": 16,
      "outputs": [
        {
          "output_type": "stream",
          "name": "stdout",
          "text": [
            "Original_data: \n",
            "   NumericFeature1  NumericFeature2 CategoricalFeature\n",
            "0              1.0                7                  A\n",
            "1              2.0                8                  B\n",
            "2              NaN                9                NaN\n",
            "3              4.0               10                  A\n",
            "4              5.0               11                  B\n",
            "5              6.0               50                  C\n"
          ]
        }
      ]
    },
    {
      "cell_type": "code",
      "source": [
        "#Perform data preprocessing\n",
        "cleaned_data = data_preprocessing_pipeline(data)\n",
        "\n",
        "print(\"Preprocessed Data:\")\n",
        "print(cleaned_data)"
      ],
      "metadata": {
        "colab": {
          "base_uri": "https://localhost:8080/"
        },
        "id": "258le70RVCdK",
        "outputId": "637a9c9d-8be9-49b9-f2bd-e2e5fe4b2785"
      },
      "execution_count": 17,
      "outputs": [
        {
          "output_type": "stream",
          "name": "stdout",
          "text": [
            "Preprocessed Data:\n",
            "   NumericFeature1  NumericFeature2 CategoricalFeature\n",
            "0        -1.535624        -0.576053                  A\n",
            "1        -0.944999        -0.510839                  B\n",
            "2         0.000000        -0.445626                  A\n",
            "3         0.236250        -0.380412                  A\n",
            "4         0.826874        -0.315199                  B\n",
            "5         1.417499         2.228129                  C\n"
          ]
        }
      ]
    }
  ]
}