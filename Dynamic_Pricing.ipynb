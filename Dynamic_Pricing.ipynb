{
  "nbformat": 4,
  "nbformat_minor": 0,
  "metadata": {
    "colab": {
      "provenance": [],
      "authorship_tag": "ABX9TyOVY3xbFTu5c7yd4/qCHRLS",
      "include_colab_link": true
    },
    "kernelspec": {
      "name": "python3",
      "display_name": "Python 3"
    },
    "language_info": {
      "name": "python"
    }
  },
  "cells": [
    {
      "cell_type": "markdown",
      "metadata": {
        "id": "view-in-github",
        "colab_type": "text"
      },
      "source": [
        "<a href=\"https://colab.research.google.com/github/krutikaParab/Data-Science-Projects/blob/main/Dynamic_Pricing.ipynb\" target=\"_parent\"><img src=\"https://colab.research.google.com/assets/colab-badge.svg\" alt=\"Open In Colab\"/></a>"
      ]
    },
    {
      "cell_type": "markdown",
      "source": [
        "# Dynamic Pricing Strategy\n",
        "import necessary python libraries and dataset\n"
      ],
      "metadata": {
        "id": "RrhZ7ZGhdk2_"
      }
    },
    {
      "cell_type": "markdown",
      "source": [],
      "metadata": {
        "id": "nOPgLrVGjTga"
      }
    },
    {
      "cell_type": "code",
      "source": [
        "import pandas as pd\n",
        "import plotly.express as px\n",
        "import plotly.graph_objects as go\n",
        "\n",
        "data = pd.read_csv(\"dynamic_pricing_data.csv\")\n",
        "print(data.head())"
      ],
      "metadata": {
        "colab": {
          "base_uri": "https://localhost:8080/"
        },
        "id": "K_QBYP1pd4DT",
        "outputId": "745bd151-3662-499c-abb1-89a8067db41f"
      },
      "execution_count": null,
      "outputs": [
        {
          "output_type": "stream",
          "name": "stdout",
          "text": [
            "   Number_of_Riders  Number_of_Drivers Location_Category  \\\n",
            "0                90                 45             Urban   \n",
            "1                58                 39          Suburban   \n",
            "2                42                 31             Rural   \n",
            "3                89                 28             Rural   \n",
            "4                78                 22             Rural   \n",
            "\n",
            "  Customer_Loyalty_Status  Number_of_Past_Rides  Average_Ratings  \\\n",
            "0                  Silver                    13             4.47   \n",
            "1                  Silver                    72             4.06   \n",
            "2                  Silver                     0             3.99   \n",
            "3                 Regular                    67             4.31   \n",
            "4                 Regular                    74             3.77   \n",
            "\n",
            "  Time_of_Booking Vehicle_Type  Expected_Ride_Duration  \\\n",
            "0           Night      Premium                      90   \n",
            "1         Evening      Economy                      43   \n",
            "2       Afternoon      Premium                      76   \n",
            "3       Afternoon      Premium                     134   \n",
            "4       Afternoon      Economy                     149   \n",
            "\n",
            "   Historical_Cost_of_Ride  \n",
            "0               284.257273  \n",
            "1               173.874753  \n",
            "2               329.795469  \n",
            "3               470.201232  \n",
            "4               579.681422  \n"
          ]
        }
      ]
    }
  ]
}